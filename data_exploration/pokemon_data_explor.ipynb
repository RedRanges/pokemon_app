{
 "cells": [
  {
   "cell_type": "code",
   "execution_count": 73,
   "metadata": {},
   "outputs": [],
   "source": [
    "import pandas as pd\n",
    "import matplotlib.pyplot as plt\n",
    "import numpy as np\n",
    "import json"
   ]
  },
  {
   "cell_type": "code",
   "execution_count": 97,
   "metadata": {},
   "outputs": [],
   "source": [
    "# load data from csv file into pandas dataframe\n",
    "poke_df = pd.read_csv('./data/pokemon_data_csv/pokemon.csv')"
   ]
  },
  {
   "cell_type": "code",
   "execution_count": 99,
   "metadata": {},
   "outputs": [],
   "source": [
    "# filter dataframe to include only generation 1 pokemon\n",
    "poke_df = poke_df.loc[poke_df['Generation'] == 1]"
   ]
  },
  {
   "cell_type": "code",
   "execution_count": 100,
   "metadata": {},
   "outputs": [],
   "source": [
    "# using tilde which is bitwise not, to invert mask dropping mega versions of pokemon\n",
    "poke_df = poke_df[~poke_df['Name'].str.contains('Mega')].reset_index(drop=True)"
   ]
  },
  {
   "cell_type": "code",
   "execution_count": 101,
   "metadata": {},
   "outputs": [
    {
     "data": {
      "text/plain": [
       "['Grass',\n",
       " 'Fire',\n",
       " 'Water',\n",
       " 'Bug',\n",
       " 'Normal',\n",
       " 'Poison',\n",
       " 'Electric',\n",
       " 'Ground',\n",
       " 'Fairy',\n",
       " 'Fighting',\n",
       " 'Psychic',\n",
       " 'Rock',\n",
       " 'Ghost',\n",
       " 'Ice',\n",
       " 'Dragon']"
      ]
     },
     "execution_count": 101,
     "metadata": {},
     "output_type": "execute_result"
    }
   ],
   "source": [
    "# create list of unique pokemon types\n",
    "list(poke_df['Type 1'].unique())"
   ]
  },
  {
   "cell_type": "code",
   "execution_count": 31,
   "metadata": {},
   "outputs": [],
   "source": [
    "grass_poke_df = poke_df.loc[poke_df['Type 1'] == 'Grass']"
   ]
  },
  {
   "cell_type": "code",
   "execution_count": 30,
   "metadata": {},
   "outputs": [],
   "source": [
    "fire_poke_df = poke_df.loc[poke_df['Type 1'] == 'Fire']"
   ]
  },
  {
   "cell_type": "code",
   "execution_count": 84,
   "metadata": {},
   "outputs": [],
   "source": [
    "psychic_poke_df = poke_df.loc[poke_df['Type 1'] == 'Psychic']"
   ]
  },
  {
   "cell_type": "code",
   "execution_count": 47,
   "metadata": {},
   "outputs": [],
   "source": [
    "grass_pokemon = list(grass_poke_df['Name'].unique())\n",
    "y_pos = np.arange(len(grass_pokemon))\n",
    "grass_hitpoints = list(grass_poke_df['HP'])"
   ]
  },
  {
   "cell_type": "code",
   "execution_count": 65,
   "metadata": {},
   "outputs": [
    {
     "data": {
      "image/png": "[encoded data removed]",
      "text/plain": [
       "<Figure size 1008x720 with 1 Axes>"
      ]
     },
     "metadata": {
      "needs_background": "light"
     },
     "output_type": "display_data"
    }
   ],
   "source": [
    "plt.figure(figsize=(14,10))\n",
    "plt.bar(y_pos, grass_hitpoints, align='center', alpha=0.8, color='forestgreen')\n",
    "plt.xticks(y_pos, grass_pokemon)\n",
    "plt.yticks()\n",
    "plt.ylabel('Hitpoints')\n",
    "plt.title('Grass Pokemon Base Hitpoints')\n",
    "plt.show()"
   ]
  },
  {
   "cell_type": "code",
   "execution_count": 96,
   "metadata": {},
   "outputs": [],
   "source": [
    "grass_poke_df.to_csv('./data/pokemon_data_csv/grass_pokemon.csv')"
   ]
  },
  {
   "cell_type": "code",
   "execution_count": 95,
   "metadata": {},
   "outputs": [],
   "source": [
    "fire_poke_df.to_csv('./data/pokemon_data_csv/fire_pokemon.csv')"
   ]
  },
  {
   "cell_type": "code",
   "execution_count": 94,
   "metadata": {},
   "outputs": [],
   "source": [
    "psychic_poke_df.to_csv('./data/pokemon_data_csv/psychic_pokemon.csv')"
   ]
  },
  {
   "cell_type": "code",
   "execution_count": 103,
   "metadata": {},
   "outputs": [],
   "source": [
    "grass_poke_df = grass_poke_df.drop(['#'], axis=1)\n",
    "fire_poke_df = fire_poke_df.drop(['#'], axis=1)\n",
    "psychic_poke_df = psychic_poke_df.drop(['#'], axis=1)"
   ]
  },
  {
   "cell_type": "code",
   "execution_count": 110,
   "metadata": {},
   "outputs": [],
   "source": [
    "grass_dc = grass_poke_df.to_json(orient='records')\n",
    "fire_dc = fire_poke_df.to_json(orient='records')\n",
    "psychic_dc = psychic_poke_df.to_json(orient='records')"
   ]
  },
  {
   "cell_type": "code",
   "execution_count": 113,
   "metadata": {},
   "outputs": [],
   "source": [
    "with open('./data/pokemon_data_json/grass_pokemon.json', 'w', encoding='utf-8') as f:\n",
    "    json.dump(grass_dc, f, ensure_ascii=False, indent=4)\n",
    "with open('./data/pokemon_data_json/fire_pokemon.json', 'w', encoding='utf-8') as f:\n",
    "    json.dump(fire_dc, f, ensure_ascii=False, indent=4)\n",
    "with open('./data/pokemon_data_json/psychic_pokemon.json', 'w', encoding='utf-8') as f:\n",
    "    json.dump(psychic_dc, f, ensure_ascii=False, indent=4)"
   ]
  },
  {
   "cell_type": "code",
   "execution_count": null,
   "metadata": {},
   "outputs": [],
   "source": []
  },
  {
   "cell_type": "code",
   "execution_count": null,
   "metadata": {},
   "outputs": [],
   "source": []
  },
  {
   "cell_type": "code",
   "execution_count": null,
   "metadata": {},
   "outputs": [],
   "source": []
  },
  {
   "cell_type": "code",
   "execution_count": null,
   "metadata": {},
   "outputs": [],
   "source": []
  },
  {
   "cell_type": "code",
   "execution_count": null,
   "metadata": {},
   "outputs": [],
   "source": []
  },
  {
   "cell_type": "code",
   "execution_count": null,
   "metadata": {},
   "outputs": [],
   "source": []
  },
  {
   "cell_type": "code",
   "execution_count": null,
   "metadata": {},
   "outputs": [],
   "source": []
  },
  {
   "cell_type": "code",
   "execution_count": null,
   "metadata": {},
   "outputs": [],
   "source": []
  },
  {
   "cell_type": "code",
   "execution_count": null,
   "metadata": {},
   "outputs": [],
   "source": []
  }
 ],
 "metadata": {
  "kernelspec": {
   "display_name": "Python 3",
   "language": "python",
   "name": "python3"
  },
  "language_info": {
   "codemirror_mode": {
    "name": "ipython",
    "version": 3
   },
   "file_extension": ".py",
   "mimetype": "text/x-python",
   "name": "python",
   "nbconvert_exporter": "python",
   "pygments_lexer": "ipython3",
   "version": "3.7.3"
  }
 },
 "nbformat": 4,
 "nbformat_minor": 4
}
